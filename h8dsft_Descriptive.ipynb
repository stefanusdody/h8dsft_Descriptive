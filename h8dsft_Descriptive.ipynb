{
 "cells": [
  {
   "cell_type": "markdown",
   "id": "95815cd1",
   "metadata": {},
   "source": [
    "### Dataset"
   ]
  },
  {
   "cell_type": "markdown",
   "id": "316fbb9d",
   "metadata": {},
   "source": [
    "data asli berasal dari kaggle : https://www.kaggle.com/hendratno/covid19-indonesia"
   ]
  },
  {
   "cell_type": "markdown",
   "id": "907fb951",
   "metadata": {},
   "source": [
    "### Problem"
   ]
  },
  {
   "cell_type": "markdown",
   "id": "9c6d9e47",
   "metadata": {},
   "source": [
    "1. Mencari Measure of Central Tendency dari data\n",
    "2. Mencari Measure of Variance dari data"
   ]
  },
  {
   "cell_type": "markdown",
   "id": "c5bd2071",
   "metadata": {},
   "source": [
    "### Import Library"
   ]
  },
  {
   "cell_type": "code",
   "execution_count": 1,
   "id": "0b3d39f2",
   "metadata": {},
   "outputs": [],
   "source": [
    "import pandas as pd\n",
    "import matplotlib.pyplot as plt\n",
    "%matplotlib inline"
   ]
  },
  {
   "cell_type": "markdown",
   "id": "e07e72bf",
   "metadata": {},
   "source": [
    "### Loading Data"
   ]
  },
  {
   "cell_type": "code",
   "execution_count": 2,
   "id": "51a233c0",
   "metadata": {},
   "outputs": [
    {
     "data": {
      "text/html": [
       "<div>\n",
       "<style scoped>\n",
       "    .dataframe tbody tr th:only-of-type {\n",
       "        vertical-align: middle;\n",
       "    }\n",
       "\n",
       "    .dataframe tbody tr th {\n",
       "        vertical-align: top;\n",
       "    }\n",
       "\n",
       "    .dataframe thead th {\n",
       "        text-align: right;\n",
       "    }\n",
       "</style>\n",
       "<table border=\"1\" class=\"dataframe\">\n",
       "  <thead>\n",
       "    <tr style=\"text-align: right;\">\n",
       "      <th></th>\n",
       "      <th>Date</th>\n",
       "      <th>Location ISO Code</th>\n",
       "      <th>Location</th>\n",
       "      <th>New Cases</th>\n",
       "      <th>New Deaths</th>\n",
       "      <th>New Recovered</th>\n",
       "      <th>New Active Cases</th>\n",
       "      <th>Total Cases</th>\n",
       "      <th>Total Deaths</th>\n",
       "      <th>Total Recovered</th>\n",
       "      <th>...</th>\n",
       "      <th>New Deaths per Million</th>\n",
       "      <th>Total Deaths per Million</th>\n",
       "      <th>Case Fatality Rate</th>\n",
       "      <th>Case Recovered Rate</th>\n",
       "      <th>Growth Factor of New Cases</th>\n",
       "      <th>Growth Factor of New Deaths</th>\n",
       "      <th>Name</th>\n",
       "      <th>Item</th>\n",
       "      <th>Kind</th>\n",
       "      <th>Hidden</th>\n",
       "    </tr>\n",
       "  </thead>\n",
       "  <tbody>\n",
       "    <tr>\n",
       "      <th>0</th>\n",
       "      <td>1/8/2020</td>\n",
       "      <td>ID-JI</td>\n",
       "      <td>Jawa Timur</td>\n",
       "      <td>9</td>\n",
       "      <td>3</td>\n",
       "      <td>1</td>\n",
       "      <td>5</td>\n",
       "      <td>9</td>\n",
       "      <td>5</td>\n",
       "      <td>10</td>\n",
       "      <td>...</td>\n",
       "      <td>0.07</td>\n",
       "      <td>0.12</td>\n",
       "      <td>55.56%</td>\n",
       "      <td>111.11%</td>\n",
       "      <td>NaN</td>\n",
       "      <td>NaN</td>\n",
       "      <td>NaN</td>\n",
       "      <td>NaN</td>\n",
       "      <td>NaN</td>\n",
       "      <td>NaN</td>\n",
       "    </tr>\n",
       "    <tr>\n",
       "      <th>1</th>\n",
       "      <td>1/9/2020</td>\n",
       "      <td>ID-JI</td>\n",
       "      <td>Jawa Timur</td>\n",
       "      <td>0</td>\n",
       "      <td>1</td>\n",
       "      <td>23</td>\n",
       "      <td>-24</td>\n",
       "      <td>9</td>\n",
       "      <td>6</td>\n",
       "      <td>33</td>\n",
       "      <td>...</td>\n",
       "      <td>0.02</td>\n",
       "      <td>0.15</td>\n",
       "      <td>66.67%</td>\n",
       "      <td>366.67%</td>\n",
       "      <td>0.00</td>\n",
       "      <td>0.33</td>\n",
       "      <td>NaN</td>\n",
       "      <td>NaN</td>\n",
       "      <td>NaN</td>\n",
       "      <td>NaN</td>\n",
       "    </tr>\n",
       "    <tr>\n",
       "      <th>2</th>\n",
       "      <td>1/10/2020</td>\n",
       "      <td>ID-JI</td>\n",
       "      <td>Jawa Timur</td>\n",
       "      <td>0</td>\n",
       "      <td>1</td>\n",
       "      <td>14</td>\n",
       "      <td>-15</td>\n",
       "      <td>9</td>\n",
       "      <td>7</td>\n",
       "      <td>47</td>\n",
       "      <td>...</td>\n",
       "      <td>0.02</td>\n",
       "      <td>0.17</td>\n",
       "      <td>77.78%</td>\n",
       "      <td>522.22%</td>\n",
       "      <td>1.00</td>\n",
       "      <td>1.00</td>\n",
       "      <td>NaN</td>\n",
       "      <td>NaN</td>\n",
       "      <td>NaN</td>\n",
       "      <td>NaN</td>\n",
       "    </tr>\n",
       "    <tr>\n",
       "      <th>3</th>\n",
       "      <td>1/11/2020</td>\n",
       "      <td>ID-JI</td>\n",
       "      <td>Jawa Timur</td>\n",
       "      <td>0</td>\n",
       "      <td>3</td>\n",
       "      <td>8</td>\n",
       "      <td>-11</td>\n",
       "      <td>9</td>\n",
       "      <td>10</td>\n",
       "      <td>55</td>\n",
       "      <td>...</td>\n",
       "      <td>0.07</td>\n",
       "      <td>0.25</td>\n",
       "      <td>111.11%</td>\n",
       "      <td>611.11%</td>\n",
       "      <td>1.00</td>\n",
       "      <td>3.00</td>\n",
       "      <td>NaN</td>\n",
       "      <td>NaN</td>\n",
       "      <td>NaN</td>\n",
       "      <td>NaN</td>\n",
       "    </tr>\n",
       "    <tr>\n",
       "      <th>4</th>\n",
       "      <td>1/12/2020</td>\n",
       "      <td>ID-JI</td>\n",
       "      <td>Jawa Timur</td>\n",
       "      <td>0</td>\n",
       "      <td>3</td>\n",
       "      <td>1</td>\n",
       "      <td>-4</td>\n",
       "      <td>9</td>\n",
       "      <td>13</td>\n",
       "      <td>56</td>\n",
       "      <td>...</td>\n",
       "      <td>0.07</td>\n",
       "      <td>0.32</td>\n",
       "      <td>144.44%</td>\n",
       "      <td>622.22%</td>\n",
       "      <td>1.00</td>\n",
       "      <td>1.00</td>\n",
       "      <td>NaN</td>\n",
       "      <td>NaN</td>\n",
       "      <td>NaN</td>\n",
       "      <td>NaN</td>\n",
       "    </tr>\n",
       "    <tr>\n",
       "      <th>...</th>\n",
       "      <td>...</td>\n",
       "      <td>...</td>\n",
       "      <td>...</td>\n",
       "      <td>...</td>\n",
       "      <td>...</td>\n",
       "      <td>...</td>\n",
       "      <td>...</td>\n",
       "      <td>...</td>\n",
       "      <td>...</td>\n",
       "      <td>...</td>\n",
       "      <td>...</td>\n",
       "      <td>...</td>\n",
       "      <td>...</td>\n",
       "      <td>...</td>\n",
       "      <td>...</td>\n",
       "      <td>...</td>\n",
       "      <td>...</td>\n",
       "      <td>...</td>\n",
       "      <td>...</td>\n",
       "      <td>...</td>\n",
       "      <td>...</td>\n",
       "    </tr>\n",
       "    <tr>\n",
       "      <th>16278</th>\n",
       "      <td>7/9/2021</td>\n",
       "      <td>ID-SG</td>\n",
       "      <td>Sulawesi Tenggara</td>\n",
       "      <td>124</td>\n",
       "      <td>1</td>\n",
       "      <td>3</td>\n",
       "      <td>120</td>\n",
       "      <td>12447</td>\n",
       "      <td>252</td>\n",
       "      <td>10412</td>\n",
       "      <td>...</td>\n",
       "      <td>0.38</td>\n",
       "      <td>95.62</td>\n",
       "      <td>2.02%</td>\n",
       "      <td>83.65%</td>\n",
       "      <td>0.92</td>\n",
       "      <td>0.50</td>\n",
       "      <td>NaN</td>\n",
       "      <td>NaN</td>\n",
       "      <td>NaN</td>\n",
       "      <td>NaN</td>\n",
       "    </tr>\n",
       "    <tr>\n",
       "      <th>16279</th>\n",
       "      <td>7/9/2021</td>\n",
       "      <td>ID-SA</td>\n",
       "      <td>Sulawesi Utara</td>\n",
       "      <td>278</td>\n",
       "      <td>9</td>\n",
       "      <td>9</td>\n",
       "      <td>260</td>\n",
       "      <td>17424</td>\n",
       "      <td>572</td>\n",
       "      <td>15525</td>\n",
       "      <td>...</td>\n",
       "      <td>3.41</td>\n",
       "      <td>216.51</td>\n",
       "      <td>3.28%</td>\n",
       "      <td>89.10%</td>\n",
       "      <td>1.24</td>\n",
       "      <td>9.00</td>\n",
       "      <td>NaN</td>\n",
       "      <td>NaN</td>\n",
       "      <td>NaN</td>\n",
       "      <td>NaN</td>\n",
       "    </tr>\n",
       "    <tr>\n",
       "      <th>16280</th>\n",
       "      <td>7/9/2021</td>\n",
       "      <td>ID-SB</td>\n",
       "      <td>Sumatera Barat</td>\n",
       "      <td>718</td>\n",
       "      <td>10</td>\n",
       "      <td>275</td>\n",
       "      <td>433</td>\n",
       "      <td>55675</td>\n",
       "      <td>1259</td>\n",
       "      <td>48840</td>\n",
       "      <td>...</td>\n",
       "      <td>1.81</td>\n",
       "      <td>228.11</td>\n",
       "      <td>2.26%</td>\n",
       "      <td>87.72%</td>\n",
       "      <td>0.93</td>\n",
       "      <td>1.00</td>\n",
       "      <td>NaN</td>\n",
       "      <td>NaN</td>\n",
       "      <td>NaN</td>\n",
       "      <td>NaN</td>\n",
       "    </tr>\n",
       "    <tr>\n",
       "      <th>16281</th>\n",
       "      <td>7/9/2021</td>\n",
       "      <td>ID-SS</td>\n",
       "      <td>Sumatera Selatan</td>\n",
       "      <td>341</td>\n",
       "      <td>6</td>\n",
       "      <td>221</td>\n",
       "      <td>114</td>\n",
       "      <td>31147</td>\n",
       "      <td>1569</td>\n",
       "      <td>27088</td>\n",
       "      <td>...</td>\n",
       "      <td>0.73</td>\n",
       "      <td>190.93</td>\n",
       "      <td>5.04%</td>\n",
       "      <td>86.97%</td>\n",
       "      <td>1.15</td>\n",
       "      <td>0.38</td>\n",
       "      <td>NaN</td>\n",
       "      <td>NaN</td>\n",
       "      <td>NaN</td>\n",
       "      <td>NaN</td>\n",
       "    </tr>\n",
       "    <tr>\n",
       "      <th>16282</th>\n",
       "      <td>7/9/2021</td>\n",
       "      <td>ID-SU</td>\n",
       "      <td>Sumatera Utara</td>\n",
       "      <td>336</td>\n",
       "      <td>5</td>\n",
       "      <td>241</td>\n",
       "      <td>90</td>\n",
       "      <td>38040</td>\n",
       "      <td>1232</td>\n",
       "      <td>33773</td>\n",
       "      <td>...</td>\n",
       "      <td>0.34</td>\n",
       "      <td>82.82</td>\n",
       "      <td>3.24%</td>\n",
       "      <td>88.78%</td>\n",
       "      <td>1.22</td>\n",
       "      <td>0.83</td>\n",
       "      <td>NaN</td>\n",
       "      <td>NaN</td>\n",
       "      <td>NaN</td>\n",
       "      <td>NaN</td>\n",
       "    </tr>\n",
       "  </tbody>\n",
       "</table>\n",
       "<p>16283 rows × 41 columns</p>\n",
       "</div>"
      ],
      "text/plain": [
       "            Date Location ISO Code           Location  New Cases  New Deaths  \\\n",
       "0       1/8/2020             ID-JI         Jawa Timur          9           3   \n",
       "1       1/9/2020             ID-JI         Jawa Timur          0           1   \n",
       "2      1/10/2020             ID-JI         Jawa Timur          0           1   \n",
       "3      1/11/2020             ID-JI         Jawa Timur          0           3   \n",
       "4      1/12/2020             ID-JI         Jawa Timur          0           3   \n",
       "...          ...               ...                ...        ...         ...   \n",
       "16278   7/9/2021             ID-SG  Sulawesi Tenggara        124           1   \n",
       "16279   7/9/2021             ID-SA     Sulawesi Utara        278           9   \n",
       "16280   7/9/2021             ID-SB     Sumatera Barat        718          10   \n",
       "16281   7/9/2021             ID-SS   Sumatera Selatan        341           6   \n",
       "16282   7/9/2021             ID-SU     Sumatera Utara        336           5   \n",
       "\n",
       "       New Recovered  New Active Cases  Total Cases  Total Deaths  \\\n",
       "0                  1                 5            9             5   \n",
       "1                 23               -24            9             6   \n",
       "2                 14               -15            9             7   \n",
       "3                  8               -11            9            10   \n",
       "4                  1                -4            9            13   \n",
       "...              ...               ...          ...           ...   \n",
       "16278              3               120        12447           252   \n",
       "16279              9               260        17424           572   \n",
       "16280            275               433        55675          1259   \n",
       "16281            221               114        31147          1569   \n",
       "16282            241                90        38040          1232   \n",
       "\n",
       "       Total Recovered  ...  New Deaths per Million Total Deaths per Million  \\\n",
       "0                   10  ...                    0.07                     0.12   \n",
       "1                   33  ...                    0.02                     0.15   \n",
       "2                   47  ...                    0.02                     0.17   \n",
       "3                   55  ...                    0.07                     0.25   \n",
       "4                   56  ...                    0.07                     0.32   \n",
       "...                ...  ...                     ...                      ...   \n",
       "16278            10412  ...                    0.38                    95.62   \n",
       "16279            15525  ...                    3.41                   216.51   \n",
       "16280            48840  ...                    1.81                   228.11   \n",
       "16281            27088  ...                    0.73                   190.93   \n",
       "16282            33773  ...                    0.34                    82.82   \n",
       "\n",
       "       Case Fatality Rate Case Recovered Rate Growth Factor of New Cases  \\\n",
       "0                  55.56%             111.11%                        NaN   \n",
       "1                  66.67%             366.67%                       0.00   \n",
       "2                  77.78%             522.22%                       1.00   \n",
       "3                 111.11%             611.11%                       1.00   \n",
       "4                 144.44%             622.22%                       1.00   \n",
       "...                   ...                 ...                        ...   \n",
       "16278               2.02%              83.65%                       0.92   \n",
       "16279               3.28%              89.10%                       1.24   \n",
       "16280               2.26%              87.72%                       0.93   \n",
       "16281               5.04%              86.97%                       1.15   \n",
       "16282               3.24%              88.78%                       1.22   \n",
       "\n",
       "      Growth Factor of New Deaths Name Item Kind  Hidden  \n",
       "0                             NaN  NaN  NaN  NaN     NaN  \n",
       "1                            0.33  NaN  NaN  NaN     NaN  \n",
       "2                            1.00  NaN  NaN  NaN     NaN  \n",
       "3                            3.00  NaN  NaN  NaN     NaN  \n",
       "4                            1.00  NaN  NaN  NaN     NaN  \n",
       "...                           ...  ...  ...  ...     ...  \n",
       "16278                        0.50  NaN  NaN  NaN     NaN  \n",
       "16279                        9.00  NaN  NaN  NaN     NaN  \n",
       "16280                        1.00  NaN  NaN  NaN     NaN  \n",
       "16281                        0.38  NaN  NaN  NaN     NaN  \n",
       "16282                        0.83  NaN  NaN  NaN     NaN  \n",
       "\n",
       "[16283 rows x 41 columns]"
      ]
     },
     "execution_count": 2,
     "metadata": {},
     "output_type": "execute_result"
    }
   ],
   "source": [
    "df = pd.read_csv('covid_19_indonesia_time_series_all.csv')\n",
    "df"
   ]
  },
  {
   "cell_type": "code",
   "execution_count": 3,
   "id": "b3d7ffc7",
   "metadata": {},
   "outputs": [
    {
     "name": "stdout",
     "output_type": "stream",
     "text": [
      "<class 'pandas.core.frame.DataFrame'>\n",
      "RangeIndex: 16283 entries, 0 to 16282\n",
      "Data columns (total 41 columns):\n",
      " #   Column                       Non-Null Count  Dtype  \n",
      "---  ------                       --------------  -----  \n",
      " 0   Date                         16283 non-null  object \n",
      " 1   Location ISO Code            16283 non-null  object \n",
      " 2   Location                     16283 non-null  object \n",
      " 3   New Cases                    16283 non-null  int64  \n",
      " 4   New Deaths                   16283 non-null  int64  \n",
      " 5   New Recovered                16283 non-null  int64  \n",
      " 6   New Active Cases             16283 non-null  int64  \n",
      " 7   Total Cases                  16283 non-null  int64  \n",
      " 8   Total Deaths                 16283 non-null  int64  \n",
      " 9   Total Recovered              16283 non-null  int64  \n",
      " 10  Total Active Cases           16283 non-null  int64  \n",
      " 11  Location Level               16283 non-null  object \n",
      " 12  City or Regency              0 non-null      float64\n",
      " 13  Province                     15788 non-null  object \n",
      " 14  Country                      16283 non-null  object \n",
      " 15  Continent                    16283 non-null  object \n",
      " 16  Island                       15788 non-null  object \n",
      " 17  Time Zone                    15788 non-null  object \n",
      " 18  Special Status               2393 non-null   object \n",
      " 19  Total Regencies              16283 non-null  int64  \n",
      " 20  Total Cities                 15814 non-null  float64\n",
      " 21  Total Districts              16283 non-null  int64  \n",
      " 22  Total Urban Villages         15812 non-null  float64\n",
      " 23  Total Rural Villages         15787 non-null  float64\n",
      " 24  Area (km2)                   16283 non-null  int64  \n",
      " 25  Population                   16283 non-null  int64  \n",
      " 26  Population Density           16283 non-null  float64\n",
      " 27  Longitude                    16283 non-null  float64\n",
      " 28  Latitude                     16283 non-null  float64\n",
      " 29  New Cases per Million        16283 non-null  float64\n",
      " 30  Total Cases per Million      16283 non-null  float64\n",
      " 31  New Deaths per Million       16283 non-null  float64\n",
      " 32  Total Deaths per Million     16283 non-null  float64\n",
      " 33  Case Fatality Rate           16283 non-null  object \n",
      " 34  Case Recovered Rate          16283 non-null  object \n",
      " 35  Growth Factor of New Cases   15298 non-null  float64\n",
      " 36  Growth Factor of New Deaths  14344 non-null  float64\n",
      " 37  Name                         0 non-null      float64\n",
      " 38  Item                         0 non-null      float64\n",
      " 39  Kind                         0 non-null      float64\n",
      " 40  Hidden                       0 non-null      float64\n",
      "dtypes: float64(17), int64(12), object(12)\n",
      "memory usage: 5.1+ MB\n"
     ]
    }
   ],
   "source": [
    "df.info()"
   ]
  },
  {
   "cell_type": "markdown",
   "id": "263edccc",
   "metadata": {},
   "source": [
    "#### mengelompokan variabel dengan type data integer dar float numbers"
   ]
  },
  {
   "cell_type": "code",
   "execution_count": 4,
   "id": "b78c7f34",
   "metadata": {},
   "outputs": [
    {
     "data": {
      "text/plain": [
       "['New Cases',\n",
       " 'New Deaths',\n",
       " 'New Recovered',\n",
       " 'New Active Cases',\n",
       " 'Total Cases',\n",
       " 'Total Deaths',\n",
       " 'Total Recovered',\n",
       " 'Total Active Cases',\n",
       " 'City or Regency',\n",
       " 'Total Regencies',\n",
       " 'Total Cities',\n",
       " 'Total Districts',\n",
       " 'Total Urban Villages',\n",
       " 'Total Rural Villages',\n",
       " 'Area (km2)',\n",
       " 'Population',\n",
       " 'Population Density',\n",
       " 'Longitude',\n",
       " 'Latitude',\n",
       " 'New Cases per Million',\n",
       " 'Total Cases per Million',\n",
       " 'New Deaths per Million',\n",
       " 'Total Deaths per Million',\n",
       " 'Growth Factor of New Cases',\n",
       " 'Growth Factor of New Deaths',\n",
       " 'Name',\n",
       " 'Item',\n",
       " 'Kind',\n",
       " 'Hidden']"
      ]
     },
     "execution_count": 4,
     "metadata": {},
     "output_type": "execute_result"
    }
   ],
   "source": [
    "numbers = [var for var in df.columns if df[var].dtype =='int64' or df[var].dtype =='float64']\n",
    "numbers"
   ]
  },
  {
   "cell_type": "markdown",
   "id": "92f32ed1",
   "metadata": {},
   "source": [
    "# 1. Measure of Central Tendency "
   ]
  },
  {
   "cell_type": "markdown",
   "id": "ebad7302",
   "metadata": {},
   "source": [
    "## Mean\n",
    "\n",
    "Mean merupakan nilai rata-rata dari suatu variable"
   ]
  },
  {
   "cell_type": "code",
   "execution_count": 5,
   "id": "5294a869",
   "metadata": {},
   "outputs": [
    {
     "name": "stdout",
     "output_type": "stream",
     "text": [
      "Nilai Mean dari variable New Cases : 301.27187864644105\n",
      "Nilai Mean dari variable New Deaths : 7.919363753608057\n",
      "Nilai Mean dari variable New Recovered : 248.01578333230978\n",
      "Nilai Mean dari variable New Active Cases : 45.33673156052325\n",
      "Nilai Mean dari variable Total Cases : 42746.73530676166\n",
      "Nilai Mean dari variable Total Deaths : 1243.917644168765\n",
      "Nilai Mean dari variable Total Recovered : 36894.2679481668\n",
      "Nilai Mean dari variable Total Active Cases : 4608.549714426089\n",
      "Nilai Mean dari variable City or Regency : nan\n",
      "Nilai Mean dari variable Total Regencies : 24.792912853896702\n",
      "Nilai Mean dari variable Total Cities : 6.049576324775515\n",
      "Nilai Mean dari variable Total Districts : 432.59528342443036\n",
      "Nilai Mean dari variable Total Urban Villages : 524.4581330634961\n",
      "Nilai Mean dari variable Total Rural Villages : 4631.859821372015\n",
      "Nilai Mean dari variable Area (km2) : 114077.48547564945\n",
      "Nilai Mean dari variable Population : 16057038.005527237\n",
      "Nilai Mean dari variable Population Density : 768.3087311920076\n",
      "Nilai Mean dari variable Longitude : 113.42750195090004\n",
      "Nilai Mean dari variable Latitude : -2.850092998606038\n",
      "Nilai Mean dari variable New Cases per Million : 20.67362156850719\n",
      "Nilai Mean dari variable Total Cases per Million : 2977.1600515875457\n",
      "Nilai Mean dari variable New Deaths per Million : 0.4633464349321347\n",
      "Nilai Mean dari variable Total Deaths per Million : 72.46239820671963\n",
      "Nilai Mean dari variable Growth Factor of New Cases : 1.437651980651067\n",
      "Nilai Mean dari variable Growth Factor of New Deaths : 1.0848724205242548\n",
      "Nilai Mean dari variable Name : nan\n",
      "Nilai Mean dari variable Item : nan\n",
      "Nilai Mean dari variable Kind : nan\n",
      "Nilai Mean dari variable Hidden : nan\n"
     ]
    }
   ],
   "source": [
    "for col in numbers:\n",
    "    print(\"Nilai Mean dari variable \" + col + \" : \" + str(df[col].mean()))"
   ]
  },
  {
   "cell_type": "markdown",
   "id": "067f227e",
   "metadata": {},
   "source": [
    "## Median\n",
    "\n",
    "Median merupakan nilai tengah(median) dari variabel"
   ]
  },
  {
   "cell_type": "code",
   "execution_count": 6,
   "id": "fb10aed1",
   "metadata": {},
   "outputs": [
    {
     "name": "stdout",
     "output_type": "stream",
     "text": [
      "Nilai Median dari variabel New Cases : 39.0\n",
      "Nilai Median dari variabel New Deaths : 1.0\n",
      "Nilai Median dari variabel New Recovered : 24.0\n",
      "Nilai Median dari variabel New Active Cases : 2.0\n",
      "Nilai Median dari variabel Total Cases : 5941.0\n",
      "Nilai Median dari variabel Total Deaths : 149.0\n",
      "Nilai Median dari variabel Total Recovered : 4484.0\n",
      "Nilai Median dari variabel Total Active Cases : 851.0\n",
      "Nilai Median dari variabel City or Regency : nan\n",
      "Nilai Median dari variabel Total Regencies : 12.0\n",
      "Nilai Median dari variabel Total Cities : 2.0\n",
      "Nilai Median dari variabel Total Districts : 171.0\n",
      "Nilai Median dari variabel Total Urban Villages : 175.0\n",
      "Nilai Median dari variabel Total Rural Villages : 1591.0\n",
      "Nilai Median dari variabel Area (km2) : 46717.0\n",
      "Nilai Median dari variabel Population : 4340348.0\n",
      "Nilai Median dari variabel Population Density : 103.84\n",
      "Nilai Median dari variabel Longitude : 112.73294140000002\n",
      "Nilai Median dari variabel Latitude : -2.9935949789999996\n",
      "Nilai Median dari variabel New Cases per Million : 7.67\n",
      "Nilai Median dari variabel Total Cases per Million : 1398.64\n",
      "Nilai Median dari variabel New Deaths per Million : 0.11\n",
      "Nilai Median dari variabel Total Deaths per Million : 41.38\n",
      "Nilai Median dari variabel Growth Factor of New Cases : 1.0\n",
      "Nilai Median dari variabel Growth Factor of New Deaths : 1.0\n",
      "Nilai Median dari variabel Name : nan\n",
      "Nilai Median dari variabel Item : nan\n",
      "Nilai Median dari variabel Kind : nan\n",
      "Nilai Median dari variabel Hidden : nan\n"
     ]
    }
   ],
   "source": [
    "for col in numbers:\n",
    "    print(\"Nilai Median dari variabel \" + col + \" : \" + str(df[col].median()))"
   ]
  },
  {
   "cell_type": "markdown",
   "id": "67ec1f0e",
   "metadata": {},
   "source": [
    "## Mode"
   ]
  },
  {
   "cell_type": "markdown",
   "id": "71323a26",
   "metadata": {},
   "source": [
    "Mode merupakan nilai yang paling sering muncul dari suatu variabel "
   ]
  },
  {
   "cell_type": "code",
   "execution_count": 7,
   "id": "5c8a00f9",
   "metadata": {},
   "outputs": [
    {
     "ename": "NameError",
     "evalue": "name 'continous' is not defined",
     "output_type": "error",
     "traceback": [
      "\u001b[0;31m---------------------------------------------------------------------------\u001b[0m",
      "\u001b[0;31mNameError\u001b[0m                                 Traceback (most recent call last)",
      "\u001b[0;32m<ipython-input-7-5f864464cb83>\u001b[0m in \u001b[0;36m<module>\u001b[0;34m\u001b[0m\n\u001b[0;32m----> 1\u001b[0;31m \u001b[0;32mfor\u001b[0m \u001b[0mcol\u001b[0m \u001b[0;32min\u001b[0m \u001b[0mcontinous\u001b[0m\u001b[0;34m:\u001b[0m\u001b[0;34m\u001b[0m\u001b[0;34m\u001b[0m\u001b[0m\n\u001b[0m\u001b[1;32m      2\u001b[0m     \u001b[0mprint\u001b[0m\u001b[0;34m(\u001b[0m\u001b[0;34m\"Nilai Mode dari Variabel \"\u001b[0m \u001b[0;34m+\u001b[0m \u001b[0mcol\u001b[0m \u001b[0;34m+\u001b[0m \u001b[0;34m\" : \"\u001b[0m \u001b[0;34m+\u001b[0m \u001b[0mstr\u001b[0m\u001b[0;34m(\u001b[0m\u001b[0mdf\u001b[0m\u001b[0;34m[\u001b[0m\u001b[0mcol\u001b[0m\u001b[0;34m]\u001b[0m\u001b[0;34m.\u001b[0m\u001b[0mmode\u001b[0m\u001b[0;34m(\u001b[0m\u001b[0;34m)\u001b[0m\u001b[0;34m)\u001b[0m\u001b[0;34m)\u001b[0m\u001b[0;34m\u001b[0m\u001b[0;34m\u001b[0m\u001b[0m\n",
      "\u001b[0;31mNameError\u001b[0m: name 'continous' is not defined"
     ]
    }
   ],
   "source": [
    "for col in continous:\n",
    "    print(\"Nilai Mode dari Variabel \" + col + \" : \" + str(df[col].mode()))"
   ]
  },
  {
   "cell_type": "markdown",
   "id": "c897bf30",
   "metadata": {},
   "source": [
    "nilai yang paling sering muncul(mode) dari variabel 'New Deaths per Million' adalah 0.0"
   ]
  },
  {
   "cell_type": "markdown",
   "id": "9ff53b5b",
   "metadata": {},
   "source": [
    "# 2. Mencari Measure of Variance dari data"
   ]
  },
  {
   "cell_type": "markdown",
   "id": "718277b0",
   "metadata": {},
   "source": [
    "## Range"
   ]
  },
  {
   "cell_type": "markdown",
   "id": "5a798c1d",
   "metadata": {},
   "source": [
    "Range adalah nilai rentang yang dihitung dihitung dengan mengurangkan nilai maksimum dengan nilai minimum suatu variabel"
   ]
  },
  {
   "cell_type": "code",
   "execution_count": null,
   "id": "0fd08875",
   "metadata": {},
   "outputs": [],
   "source": [
    "for col in discrete:\n",
    "    print(col + ' range: '+ str(df[col].max() - df[col].min()))"
   ]
  },
  {
   "cell_type": "markdown",
   "id": "e6bb6e6d",
   "metadata": {},
   "source": [
    "## Quartiles"
   ]
  },
  {
   "cell_type": "markdown",
   "id": "a8d32d6b",
   "metadata": {},
   "source": [
    "Quartiles adalah penyebaran data secara keseluruhan dengan membagi persentil tersebut menjadi empat kuartil."
   ]
  },
  {
   "cell_type": "code",
   "execution_count": null,
   "id": "6808a119",
   "metadata": {},
   "outputs": [],
   "source": [
    "for col in numbers:\n",
    "    print(str(df[col].quantile([0.25, 0.5, 0.75])))"
   ]
  },
  {
   "cell_type": "markdown",
   "id": "6d72300e",
   "metadata": {},
   "source": [
    "## Variance\n",
    "\n",
    "Variance adalah ukuran seberapa jauh sebuah kumpulan bilangan tersebar yang diukur sebagai rata-rata selisih kuadrat dari mean"
   ]
  },
  {
   "cell_type": "code",
   "execution_count": null,
   "id": "58e504e5",
   "metadata": {},
   "outputs": [],
   "source": [
    "for col in numbers:\n",
    "    print(\"Nilai Variance dari variabel \" + col + \" : \"+ str(df[col].var()))"
   ]
  },
  {
   "cell_type": "markdown",
   "id": "410b9226",
   "metadata": {},
   "source": [
    "## Standard Deviation\n",
    "\n",
    "Standard Deviation adalah rata-rata jarak penyimpangan titik-titik data yang dihitung dengan mengkuadratkan selisih setiap nilai dari mean"
   ]
  },
  {
   "cell_type": "code",
   "execution_count": null,
   "id": "31275df8",
   "metadata": {},
   "outputs": [],
   "source": [
    "for col in numbers:\n",
    "    print(\"Nilai Standard Deviation dari  variabel \" + col + \" : \" + str(df[col].std()))"
   ]
  },
  {
   "cell_type": "code",
   "execution_count": null,
   "id": "746a610f",
   "metadata": {},
   "outputs": [],
   "source": []
  }
 ],
 "metadata": {
  "kernelspec": {
   "display_name": "Python 3",
   "language": "python",
   "name": "python3"
  },
  "language_info": {
   "codemirror_mode": {
    "name": "ipython",
    "version": 3
   },
   "file_extension": ".py",
   "mimetype": "text/x-python",
   "name": "python",
   "nbconvert_exporter": "python",
   "pygments_lexer": "ipython3",
   "version": "3.8.5"
  }
 },
 "nbformat": 4,
 "nbformat_minor": 5
}
